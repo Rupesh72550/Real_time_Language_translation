{
 "cells": [
  {
   "cell_type": "code",
   "execution_count": 1,
   "id": "44be1fdd",
   "metadata": {},
   "outputs": [
    {
     "name": "stderr",
     "output_type": "stream",
     "text": [
      "C:\\Users\\Rupesh kumar Gupta\\AppData\\Roaming\\Python\\Python39\\site-packages\\torch\\utils\\_pytree.py:185: FutureWarning: optree is installed but the version is too old to support PyTorch Dynamo in C++ pytree. C++ pytree support is disabled. Please consider upgrading optree using `python3 -m pip install --upgrade 'optree>=0.13.0'`.\n",
      "  warnings.warn(\n",
      "C:\\ProgramData\\Anaconda3\\lib\\site-packages\\scipy\\__init__.py:146: UserWarning: A NumPy version >=1.16.5 and <1.23.0 is required for this version of SciPy (detected version 1.26.4\n",
      "  warnings.warn(f\"A NumPy version >={np_minversion} and <{np_maxversion}\"\n"
     ]
    },
    {
     "name": "stdout",
     "output_type": "stream",
     "text": [
      "All required packages are installed successfully!\n"
     ]
    }
   ],
   "source": [
    "import torch\n",
    "import gradio as gr\n",
    "from transformers import MarianMTModel, MarianTokenizer\n",
    "from deep_translator import GoogleTranslator\n",
    "import sentencepiece\n",
    "\n",
    "print(\"All required packages are installed successfully!\")\n"
   ]
  },
  {
   "cell_type": "code",
   "execution_count": 7,
   "id": "54336e9b",
   "metadata": {},
   "outputs": [
    {
     "name": "stdout",
     "output_type": "stream",
     "text": [
      "Running on local URL:  http://127.0.0.1:7862\n",
      "Running on public URL: https://c0015319b30a957db6.gradio.live\n",
      "\n",
      "This share link expires in 72 hours. For free permanent hosting and GPU upgrades, run `gradio deploy` from Terminal to deploy to Spaces (https://huggingface.co/spaces)\n"
     ]
    },
    {
     "data": {
      "text/html": [
       "<div><iframe src=\"https://c0015319b30a957db6.gradio.live\" width=\"100%\" height=\"500\" allow=\"autoplay; camera; microphone; clipboard-read; clipboard-write;\" frameborder=\"0\" allowfullscreen></iframe></div>"
      ],
      "text/plain": [
       "<IPython.core.display.HTML object>"
      ]
     },
     "metadata": {},
     "output_type": "display_data"
    },
    {
     "data": {
      "text/plain": []
     },
     "execution_count": 7,
     "metadata": {},
     "output_type": "execute_result"
    },
    {
     "name": "stderr",
     "output_type": "stream",
     "text": [
      "C:\\Users\\Rupesh kumar Gupta\\AppData\\Roaming\\Python\\Python39\\site-packages\\transformers\\models\\marian\\tokenization_marian.py:175: UserWarning: Recommended: pip install sacremoses.\n",
      "  warnings.warn(\"Recommended: pip install sacremoses.\")\n"
     ]
    }
   ],
   "source": [
    "import gradio as gr\n",
    "import torch\n",
    "from transformers import MarianMTModel, MarianTokenizer\n",
    "\n",
    "# Language options mapping\n",
    "LANGUAGES = {\n",
    "    \"English\": \"en\",\n",
    "    \"French\": \"fr\",\n",
    "    \"Hindi\": \"hi\",\n",
    "     \n",
    "}\n",
    "\n",
    "# Load the translation model\n",
    "def load_model(src_lang, tgt_lang):\n",
    "    model_name = f\"Helsinki-NLP/opus-mt-{src_lang}-{tgt_lang}\"\n",
    "    tokenizer = MarianTokenizer.from_pretrained(model_name)\n",
    "    model = MarianMTModel.from_pretrained(model_name)\n",
    "    return tokenizer, model\n",
    "\n",
    "# Translation function with proper language mapping\n",
    "def translate(text, src_lang_name, tgt_lang_name):\n",
    "    if not text:\n",
    "        return \"Please enter text to translate.\"\n",
    "    \n",
    "    # Convert language names to language codes\n",
    "    src_lang = LANGUAGES.get(src_lang_name)\n",
    "    tgt_lang = LANGUAGES.get(tgt_lang_name)\n",
    "    \n",
    "    if not src_lang or not tgt_lang:\n",
    "        return \"Selected language is not supported.\"\n",
    "\n",
    "    try:\n",
    "        tokenizer, model = load_model(src_lang, tgt_lang)\n",
    "        inputs = tokenizer(text, return_tensors=\"pt\", padding=True, truncation=True)\n",
    "        with torch.no_grad():\n",
    "            translated_tokens = model.generate(**inputs)\n",
    "        return tokenizer.decode(translated_tokens[0], skip_special_tokens=True)\n",
    "    except Exception as e:\n",
    "        return f\"Error: {str(e)} (Translation model might not support this language pair)\"\n",
    "\n",
    "# Function to clear input and output fields\n",
    "def clear_fields():\n",
    "    return \"\", \"English\", \"French\", \"\"\n",
    "\n",
    "# Gradio UI\n",
    "with gr.Blocks() as app:\n",
    "    gr.Markdown(\"<h1 style='text-align: center;'>🌍 Real-time Language Translator</h1>\")\n",
    "\n",
    "    with gr.Row():\n",
    "        with gr.Column():\n",
    "            text_input = gr.Textbox(label=\"Enter Text\")\n",
    "            src_lang_radio = gr.Radio(\n",
    "                choices=list(LANGUAGES.keys()), label=\"Select Source Language\", value=\"English\"\n",
    "            )\n",
    "            tgt_lang_radio = gr.Radio(\n",
    "                choices=list(LANGUAGES.keys()), label=\"Select Target Language\", value=\"French\"\n",
    "            )\n",
    "            \n",
    "            with gr.Row():\n",
    "                translate_button = gr.Button(\"Translate\", variant=\"primary\")\n",
    "                clear_button = gr.Button(\"Clear\", variant=\"secondary\")\n",
    "\n",
    "        with gr.Column():\n",
    "            output_text = gr.Textbox(label=\"Translated Output\", interactive=False)\n",
    "\n",
    "    # Button Click Actions\n",
    "    translate_button.click(\n",
    "        translate,\n",
    "        inputs=[text_input, src_lang_radio, tgt_lang_radio],\n",
    "        outputs=output_text,\n",
    "    )\n",
    "\n",
    "    clear_button.click(\n",
    "        clear_fields,\n",
    "        inputs=[],\n",
    "        outputs=[text_input, src_lang_radio, tgt_lang_radio, output_text],\n",
    "    )\n",
    "\n",
    "# Launch the app\n",
    "app.launch(share=True)\n"
   ]
  },
  {
   "cell_type": "code",
   "execution_count": null,
   "id": "c66f5a4b",
   "metadata": {},
   "outputs": [],
   "source": []
  }
 ],
 "metadata": {
  "kernelspec": {
   "display_name": "Python 3 (ipykernel)",
   "language": "python",
   "name": "python3"
  },
  "language_info": {
   "codemirror_mode": {
    "name": "ipython",
    "version": 3
   },
   "file_extension": ".py",
   "mimetype": "text/x-python",
   "name": "python",
   "nbconvert_exporter": "python",
   "pygments_lexer": "ipython3",
   "version": "3.9.12"
  }
 },
 "nbformat": 4,
 "nbformat_minor": 5
}
